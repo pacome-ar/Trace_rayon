{
 "cells": [
  {
   "cell_type": "code",
   "execution_count": 9,
   "metadata": {},
   "outputs": [],
   "source": [
    "from ipywidgets import interact, interactive\n",
    "import ipywidgets\n",
    "import trace"
   ]
  },
  {
   "cell_type": "code",
   "execution_count": 10,
   "metadata": {},
   "outputs": [],
   "source": [
    "focales = [2, 4, 6, 8]\n",
    "figsize = (18, 3)\n",
    "\n",
    "widget = interactive(\n",
    "    trace.make_widget(figsize),\n",
    "    yobj = ipywidgets.FloatSlider(value=5, min=1, max=10, step=0.5, description='Taille objet'),\n",
    "    L1 = ipywidgets.FloatSlider(value=5, min=0, max=10, step=0.5, description='objet-L1'),\n",
    "    L12 = ipywidgets.FloatSlider(value=0, min=0, max=10, step=0.5, description='L1-L2'),\n",
    "    L23 = ipywidgets.FloatSlider(value=0, min=0, max=10, step=0.5, description='L2-L3'),\n",
    "    L3m = ipywidgets.FloatSlider(value=0, min=0, max=10, step=0.5, description='L3-mirroir'),\n",
    "    f1 = ipywidgets.Dropdown(options=focales, description='focale L1'),\n",
    "    f2 = ipywidgets.Dropdown(options=focales, description='focale L2'),\n",
    "    f3 = ipywidgets.Dropdown(options=focales, description='focale L3'),\n",
    "    l1 = ipywidgets.Checkbox(value=True, description='lentille L1'),\n",
    "    l2 = ipywidgets.Checkbox(value=False, description='lentille L2'),\n",
    "    l3 = ipywidgets.Checkbox(value=False, description='lentille L3'),\n",
    "    m = ipywidgets.Checkbox(value=False, description='mirroir'),\n",
    "    centre = ipywidgets.Checkbox(value=True, description='trace rayon centre'),\n",
    "    parallel = ipywidgets.Checkbox(value=False, description='trace rayon parallel'),\n",
    "    focal = ipywidgets.Checkbox(value=False, description='trace rayon focal'),\n",
    ")"
   ]
  },
  {
   "cell_type": "code",
   "execution_count": 11,
   "metadata": {
    "scrolled": false
   },
   "outputs": [
    {
     "data": {
      "application/vnd.jupyter.widget-view+json": {
       "model_id": "6c8a5c16e86d4cc3b9fbd2431698636e",
       "version_major": 2,
       "version_minor": 0
      },
      "text/plain": [
       "VBox(children=(HBox(children=(FloatSlider(value=5.0, description='Taille objet', max=10.0, min=1.0, step=0.5),…"
      ]
     },
     "metadata": {},
     "output_type": "display_data"
    }
   ],
   "source": [
    "controls = ipywidgets.HBox(widget.children[:-1], layout = ipywidgets.Layout(flex_flow='row wrap'))\n",
    "output = widget.children[-1]\n",
    "display(ipywidgets.VBox([controls, output]));"
   ]
  },
  {
   "cell_type": "code",
   "execution_count": null,
   "metadata": {},
   "outputs": [],
   "source": []
  },
  {
   "cell_type": "code",
   "execution_count": null,
   "metadata": {},
   "outputs": [],
   "source": []
  },
  {
   "cell_type": "code",
   "execution_count": null,
   "metadata": {},
   "outputs": [],
   "source": []
  },
  {
   "cell_type": "code",
   "execution_count": null,
   "metadata": {},
   "outputs": [],
   "source": []
  },
  {
   "cell_type": "code",
   "execution_count": null,
   "metadata": {},
   "outputs": [],
   "source": []
  },
  {
   "cell_type": "code",
   "execution_count": null,
   "metadata": {},
   "outputs": [],
   "source": []
  },
  {
   "cell_type": "code",
   "execution_count": null,
   "metadata": {},
   "outputs": [],
   "source": []
  },
  {
   "cell_type": "code",
   "execution_count": null,
   "metadata": {},
   "outputs": [],
   "source": []
  }
 ],
 "metadata": {
  "kernelspec": {
   "display_name": "Python 3",
   "language": "python",
   "name": "python3"
  },
  "language_info": {
   "codemirror_mode": {
    "name": "ipython",
    "version": 3
   },
   "file_extension": ".py",
   "mimetype": "text/x-python",
   "name": "python",
   "nbconvert_exporter": "python",
   "pygments_lexer": "ipython3",
   "version": "3.6.10"
  }
 },
 "nbformat": 4,
 "nbformat_minor": 2
}
